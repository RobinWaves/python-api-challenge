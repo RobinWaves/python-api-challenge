{
 "cells": [
  {
   "cell_type": "markdown",
   "metadata": {},
   "source": [
    "# WeatherPy\n",
    "----\n",
    "\n",
    "#### Note\n",
    "* Instructions have been included for each segment. You do not have to follow them exactly, but they are included to help you think through the steps."
   ]
  },
  {
   "cell_type": "code",
   "execution_count": 29,
   "metadata": {
    "scrolled": true
   },
   "outputs": [],
   "source": [
    "# Dependencies and Setup\n",
    "import matplotlib.pyplot as plt\n",
    "from scipy.stats import linregress\n",
    "import pandas as pd\n",
    "import numpy as np\n",
    "import requests\n",
    "import time\n",
    "from pprint import pprint\n",
    "\n",
    "# Import API key\n",
    "from api_keys import weather_api_key\n",
    "\n",
    "# Incorporated citipy to determine city based on latitude and longitude\n",
    "from citipy import citipy\n",
    "\n",
    "# Output File (CSV)\n",
    "output_data_file = \"output_data/cities.csv\"\n",
    "\n",
    "# Range of latitudes and longitudes\n",
    "lat_range = (-90, 90)\n",
    "lng_range = (-180, 180)"
   ]
  },
  {
   "cell_type": "markdown",
   "metadata": {},
   "source": [
    "## Generate Cities List"
   ]
  },
  {
   "cell_type": "code",
   "execution_count": 19,
   "metadata": {},
   "outputs": [
    {
     "data": {
      "text/plain": [
       "42"
      ]
     },
     "execution_count": 19,
     "metadata": {},
     "output_type": "execute_result"
    }
   ],
   "source": [
    "# List for holding lat_lngs and cities\n",
    "lat_lngs = []\n",
    "cities = []\n",
    "\n",
    "# Create a set of random lat and lng combinations\n",
    "lats = np.random.uniform(lat_range[0], lat_range[1], size=1500) \n",
    "lngs = np.random.uniform(lng_range[0], lng_range[1], size=1500) \n",
    "lat_lngs = zip(lats, lngs)\n",
    "\n",
    "# Identify nearest city for each lat, lng combination\n",
    "for lat_lng in lat_lngs:\n",
    "    city = citipy.nearest_city(lat_lng[0], lat_lng[1]).city_name\n",
    "    \n",
    "    # If the city is unique, then add it to a our cities list\n",
    "    if city not in cities:\n",
    "        cities.append(city)\n",
    "\n",
    "# Print the city count to confirm sufficient count\n",
    "len(cities)"
   ]
  },
  {
   "cell_type": "markdown",
   "metadata": {},
   "source": [
    "### Perform API Calls\n",
    "* Perform a weather check on each city using a series of successive API calls.\n",
    "* Include a print log of each city as it'sbeing processed (with the city number and city name).\n"
   ]
  },
  {
   "cell_type": "code",
   "execution_count": 33,
   "metadata": {
    "scrolled": true
   },
   "outputs": [
    {
     "name": "stdout",
     "output_type": "stream",
     "text": [
      "Processing record #0 of city: Te Anau\n",
      "Processing record #1 of city: San Patricio\n",
      "Processing record #2 of city: Dingle\n",
      "Processing record #3 of city: Huacho\n",
      "Processing record #4 of city: Busselton\n",
      "Processing record #5 of city: Hilo\n",
      "Processing record #6 of city: Rikitea\n",
      "Missing field/result for record #7 of city: barentsburg\n",
      "Processing record #8 of city: zonguldak\n",
      "Processing record #9 of city: bathsheba\n",
      "Processing record #10 of city: atuona\n",
      "Processing record #11 of city: tasiilaq\n",
      "Processing record #12 of city: victoria\n",
      "Processing record #13 of city: bethel\n",
      "Processing record #14 of city: butaritari\n",
      "Processing record #15 of city: saldanha\n",
      "Processing record #16 of city: mataura\n",
      "Processing record #17 of city: qaanaaq\n",
      "Processing record #18 of city: cape town\n",
      "Processing record #19 of city: jamestown\n",
      "Processing record #20 of city: torbay\n",
      "Processing record #21 of city: khatanga\n",
      "Processing record #22 of city: puerto narino\n",
      "Processing record #23 of city: puerto ayora\n",
      "Processing record #24 of city: popondetta\n",
      "Missing field/result for record #25 of city: amderma\n",
      "Processing record #26 of city: port alfred\n",
      "Processing record #27 of city: puerto baquerizo moreno\n",
      "Processing record #28 of city: upernavik\n",
      "Missing field/result for record #29 of city: illoqqortoormiut\n",
      "Processing record #30 of city: port elizabeth\n",
      "Processing record #31 of city: ribeira grande\n",
      "Processing record #32 of city: vaini\n",
      "Processing record #33 of city: roma\n",
      "Processing record #34 of city: albany\n",
      "Processing record #35 of city: slave lake\n",
      "Missing field/result for record #36 of city: attawapiskat\n",
      "Processing record #37 of city: strezhevoy\n",
      "Processing record #38 of city: bredasdorp\n",
      "Processing record #39 of city: mogoytuy\n",
      "Missing field/result for record #40 of city: taolanaro\n",
      "Processing record #41 of city: rudbar\n",
      "Total of 5 records dropped.\n"
     ]
    }
   ],
   "source": [
    "#build the dataframe\n",
    "city_data_df = pd.DataFrame(columns=(['City', 'Lat', 'Lng', 'Max Temp', 'Humidity', 'Cloudiness', \n",
    "                                      'Wind Speed', 'Country', 'Date']))\n",
    "#load cities in df\n",
    "city_data_df['City'] = cities\n",
    "failed = 0\n",
    "\n",
    "base_url = \"http://api.openweathermap.org/data/2.5/weather?\"\n",
    "units = \"imperial\"\n",
    "\n",
    "for index, row in city_data_df.iterrows():\n",
    "    city = row['City']\n",
    "    try:\n",
    "        query_url = f\"{base_url}q={city}&units={units}&appid={weather_api_key}\"  \n",
    "        response = requests.get(query_url).json() \n",
    "        #load city weather data into data frame\n",
    "        city_data_df.loc[index, 'City'] = response['name']\n",
    "        city_data_df.loc[index, 'Lat'] = response['coord']['lat']\n",
    "        city_data_df.loc[index, 'Lng'] = response['coord']['lon']\n",
    "        city_data_df.loc[index, 'Max Temp'] = response['main']['temp_max'] ### Farenheit ###\n",
    "        city_data_df.loc[index, 'Humidity'] = response['main']['humidity'] ### percentage ###\n",
    "        city_data_df.loc[index, 'Cloudiness'] = response['clouds']['all'] ### percentage ###\n",
    "        city_data_df.loc[index, 'Wind Speed'] = response['wind']['speed'] ### mph ###\n",
    "        city_data_df.loc[index, 'Country'] = response['sys']['country']\n",
    "        city_data_df.loc[index, 'Date'] = response['dt']\n",
    "        print(f\"Processing record #{index} of city: {row['City']}\")\n",
    "    except KeyError:\n",
    "        print(f\"Missing field/result for record #{index} of city: {row['City']}\")\n",
    "        city_data_df.drop(index, inplace=True)\n",
    "        failed += 1\n",
    "\n",
    "print(f\"Total of {failed} records dropped.\")"
   ]
  },
  {
   "cell_type": "markdown",
   "metadata": {},
   "source": [
    "### Convert Raw Data to DataFrame\n",
    "* Export the city data into a .csv.\n",
    "* Display the DataFrame"
   ]
  },
  {
   "cell_type": "code",
   "execution_count": 34,
   "metadata": {},
   "outputs": [
    {
     "data": {
      "text/html": [
       "<div>\n",
       "<style scoped>\n",
       "    .dataframe tbody tr th:only-of-type {\n",
       "        vertical-align: middle;\n",
       "    }\n",
       "\n",
       "    .dataframe tbody tr th {\n",
       "        vertical-align: top;\n",
       "    }\n",
       "\n",
       "    .dataframe thead th {\n",
       "        text-align: right;\n",
       "    }\n",
       "</style>\n",
       "<table border=\"1\" class=\"dataframe\">\n",
       "  <thead>\n",
       "    <tr style=\"text-align: right;\">\n",
       "      <th></th>\n",
       "      <th>City</th>\n",
       "      <th>Lat</th>\n",
       "      <th>Lng</th>\n",
       "      <th>Max Temp</th>\n",
       "      <th>Humidity</th>\n",
       "      <th>Cloudiness</th>\n",
       "      <th>Wind Speed</th>\n",
       "      <th>Country</th>\n",
       "      <th>Date</th>\n",
       "    </tr>\n",
       "  </thead>\n",
       "  <tbody>\n",
       "    <tr>\n",
       "      <th>0</th>\n",
       "      <td>Te Anau</td>\n",
       "      <td>-45.4167</td>\n",
       "      <td>167.717</td>\n",
       "      <td>55.8</td>\n",
       "      <td>76</td>\n",
       "      <td>90</td>\n",
       "      <td>7.85</td>\n",
       "      <td>NZ</td>\n",
       "      <td>1618795382</td>\n",
       "    </tr>\n",
       "    <tr>\n",
       "      <th>1</th>\n",
       "      <td>San Patricio</td>\n",
       "      <td>28.017</td>\n",
       "      <td>-97.5169</td>\n",
       "      <td>62.01</td>\n",
       "      <td>77</td>\n",
       "      <td>90</td>\n",
       "      <td>7.49</td>\n",
       "      <td>US</td>\n",
       "      <td>1618795383</td>\n",
       "    </tr>\n",
       "    <tr>\n",
       "      <th>2</th>\n",
       "      <td>Dingle</td>\n",
       "      <td>10.9995</td>\n",
       "      <td>122.671</td>\n",
       "      <td>81.21</td>\n",
       "      <td>69</td>\n",
       "      <td>100</td>\n",
       "      <td>3.78</td>\n",
       "      <td>PH</td>\n",
       "      <td>1618795383</td>\n",
       "    </tr>\n",
       "    <tr>\n",
       "      <th>3</th>\n",
       "      <td>Huacho</td>\n",
       "      <td>-11.1067</td>\n",
       "      <td>-77.605</td>\n",
       "      <td>67.93</td>\n",
       "      <td>85</td>\n",
       "      <td>28</td>\n",
       "      <td>6.6</td>\n",
       "      <td>PE</td>\n",
       "      <td>1618795383</td>\n",
       "    </tr>\n",
       "    <tr>\n",
       "      <th>4</th>\n",
       "      <td>Busselton</td>\n",
       "      <td>-33.65</td>\n",
       "      <td>115.333</td>\n",
       "      <td>63</td>\n",
       "      <td>80</td>\n",
       "      <td>100</td>\n",
       "      <td>1.01</td>\n",
       "      <td>AU</td>\n",
       "      <td>1618795384</td>\n",
       "    </tr>\n",
       "  </tbody>\n",
       "</table>\n",
       "</div>"
      ],
      "text/plain": [
       "           City      Lat      Lng Max Temp Humidity Cloudiness Wind Speed  \\\n",
       "0       Te Anau -45.4167  167.717     55.8       76         90       7.85   \n",
       "1  San Patricio   28.017 -97.5169    62.01       77         90       7.49   \n",
       "2        Dingle  10.9995  122.671    81.21       69        100       3.78   \n",
       "3        Huacho -11.1067  -77.605    67.93       85         28        6.6   \n",
       "4     Busselton   -33.65  115.333       63       80        100       1.01   \n",
       "\n",
       "  Country        Date  \n",
       "0      NZ  1618795382  \n",
       "1      US  1618795383  \n",
       "2      PH  1618795383  \n",
       "3      PE  1618795383  \n",
       "4      AU  1618795384  "
      ]
     },
     "execution_count": 34,
     "metadata": {},
     "output_type": "execute_result"
    }
   ],
   "source": [
    "city_data_df.to_csv(output_data_file, index=False)\n",
    "city_data_df.head()"
   ]
  },
  {
   "cell_type": "markdown",
   "metadata": {},
   "source": [
    "## Inspect the data and remove the cities where the humidity > 100%.\n",
    "----\n",
    "Skip this step if there are no cities that have humidity > 100%. "
   ]
  },
  {
   "cell_type": "code",
   "execution_count": 35,
   "metadata": {},
   "outputs": [
    {
     "data": {
      "text/html": [
       "<div>\n",
       "<style scoped>\n",
       "    .dataframe tbody tr th:only-of-type {\n",
       "        vertical-align: middle;\n",
       "    }\n",
       "\n",
       "    .dataframe tbody tr th {\n",
       "        vertical-align: top;\n",
       "    }\n",
       "\n",
       "    .dataframe thead th {\n",
       "        text-align: right;\n",
       "    }\n",
       "</style>\n",
       "<table border=\"1\" class=\"dataframe\">\n",
       "  <thead>\n",
       "    <tr style=\"text-align: right;\">\n",
       "      <th></th>\n",
       "      <th>City</th>\n",
       "      <th>Lat</th>\n",
       "      <th>Lng</th>\n",
       "      <th>Max Temp</th>\n",
       "      <th>Humidity</th>\n",
       "      <th>Cloudiness</th>\n",
       "      <th>Wind Speed</th>\n",
       "      <th>Country</th>\n",
       "      <th>Date</th>\n",
       "    </tr>\n",
       "  </thead>\n",
       "  <tbody>\n",
       "  </tbody>\n",
       "</table>\n",
       "</div>"
      ],
      "text/plain": [
       "Empty DataFrame\n",
       "Columns: [City, Lat, Lng, Max Temp, Humidity, Cloudiness, Wind Speed, Country, Date]\n",
       "Index: []"
      ]
     },
     "execution_count": 35,
     "metadata": {},
     "output_type": "execute_result"
    }
   ],
   "source": [
    "over_humid = city_data_df.loc[city_data_df['Humidity'] > 100]\n",
    "over_humid"
   ]
  },
  {
   "cell_type": "code",
   "execution_count": 36,
   "metadata": {},
   "outputs": [],
   "source": [
    "#  Get the indices of cities that have humidity over 100%.\n",
    "#  N/A"
   ]
  },
  {
   "cell_type": "code",
   "execution_count": 37,
   "metadata": {},
   "outputs": [],
   "source": [
    "# Make a new DataFrame equal to the city data to drop all humidity outliers by index.\n",
    "# Passing \"inplace=False\" will make a copy of the city_data DataFrame, which we call \"clean_city_data\".\n",
    "# N/A"
   ]
  },
  {
   "cell_type": "markdown",
   "metadata": {},
   "source": [
    "## Plotting the Data\n",
    "* Use proper labeling of the plots using plot titles (including date of analysis) and axes labels.\n",
    "* Save the plotted figures as .pngs."
   ]
  },
  {
   "cell_type": "code",
   "execution_count": 38,
   "metadata": {},
   "outputs": [
    {
     "data": {
      "text/html": [
       "<div>\n",
       "<style scoped>\n",
       "    .dataframe tbody tr th:only-of-type {\n",
       "        vertical-align: middle;\n",
       "    }\n",
       "\n",
       "    .dataframe tbody tr th {\n",
       "        vertical-align: top;\n",
       "    }\n",
       "\n",
       "    .dataframe thead th {\n",
       "        text-align: right;\n",
       "    }\n",
       "</style>\n",
       "<table border=\"1\" class=\"dataframe\">\n",
       "  <thead>\n",
       "    <tr style=\"text-align: right;\">\n",
       "      <th></th>\n",
       "      <th>City</th>\n",
       "      <th>Lat</th>\n",
       "      <th>Lng</th>\n",
       "      <th>Max Temp</th>\n",
       "      <th>Humidity</th>\n",
       "      <th>Cloudiness</th>\n",
       "      <th>Wind Speed</th>\n",
       "      <th>Country</th>\n",
       "      <th>Date</th>\n",
       "    </tr>\n",
       "  </thead>\n",
       "  <tbody>\n",
       "    <tr>\n",
       "      <th>0</th>\n",
       "      <td>Te Anau</td>\n",
       "      <td>-45.4167</td>\n",
       "      <td>167.7167</td>\n",
       "      <td>55.80</td>\n",
       "      <td>76</td>\n",
       "      <td>90</td>\n",
       "      <td>7.85</td>\n",
       "      <td>NZ</td>\n",
       "      <td>1618795382</td>\n",
       "    </tr>\n",
       "    <tr>\n",
       "      <th>1</th>\n",
       "      <td>San Patricio</td>\n",
       "      <td>28.0170</td>\n",
       "      <td>-97.5169</td>\n",
       "      <td>62.01</td>\n",
       "      <td>77</td>\n",
       "      <td>90</td>\n",
       "      <td>7.49</td>\n",
       "      <td>US</td>\n",
       "      <td>1618795383</td>\n",
       "    </tr>\n",
       "    <tr>\n",
       "      <th>2</th>\n",
       "      <td>Dingle</td>\n",
       "      <td>10.9995</td>\n",
       "      <td>122.6711</td>\n",
       "      <td>81.21</td>\n",
       "      <td>69</td>\n",
       "      <td>100</td>\n",
       "      <td>3.78</td>\n",
       "      <td>PH</td>\n",
       "      <td>1618795383</td>\n",
       "    </tr>\n",
       "    <tr>\n",
       "      <th>3</th>\n",
       "      <td>Huacho</td>\n",
       "      <td>-11.1067</td>\n",
       "      <td>-77.6050</td>\n",
       "      <td>67.93</td>\n",
       "      <td>85</td>\n",
       "      <td>28</td>\n",
       "      <td>6.60</td>\n",
       "      <td>PE</td>\n",
       "      <td>1618795383</td>\n",
       "    </tr>\n",
       "    <tr>\n",
       "      <th>4</th>\n",
       "      <td>Busselton</td>\n",
       "      <td>-33.6500</td>\n",
       "      <td>115.3333</td>\n",
       "      <td>63.00</td>\n",
       "      <td>80</td>\n",
       "      <td>100</td>\n",
       "      <td>1.01</td>\n",
       "      <td>AU</td>\n",
       "      <td>1618795384</td>\n",
       "    </tr>\n",
       "  </tbody>\n",
       "</table>\n",
       "</div>"
      ],
      "text/plain": [
       "           City      Lat       Lng  Max Temp  Humidity  Cloudiness  \\\n",
       "0       Te Anau -45.4167  167.7167     55.80        76          90   \n",
       "1  San Patricio  28.0170  -97.5169     62.01        77          90   \n",
       "2        Dingle  10.9995  122.6711     81.21        69         100   \n",
       "3        Huacho -11.1067  -77.6050     67.93        85          28   \n",
       "4     Busselton -33.6500  115.3333     63.00        80         100   \n",
       "\n",
       "   Wind Speed Country        Date  \n",
       "0        7.85      NZ  1618795382  \n",
       "1        7.49      US  1618795383  \n",
       "2        3.78      PH  1618795383  \n",
       "3        6.60      PE  1618795383  \n",
       "4        1.01      AU  1618795384  "
      ]
     },
     "execution_count": 38,
     "metadata": {},
     "output_type": "execute_result"
    }
   ],
   "source": [
    "#read in cities.csv file to data frame\n",
    "weather_df = pd.read_csv(\"output_data/cities.csv\")\n",
    "weather_df.head()"
   ]
  },
  {
   "cell_type": "markdown",
   "metadata": {},
   "source": [
    "## Latitude vs. Temperature Plot"
   ]
  },
  {
   "cell_type": "code",
   "execution_count": null,
   "metadata": {
    "scrolled": true
   },
   "outputs": [],
   "source": [
    "#DataFrame.plot.scatter(x, y, s=None, c=None, **kwargs)\n",
    "\n",
    "\n",
    "#plt.title(\"Capomulin Tumor Volume vs. Weight\")\n",
    "#plt.xlabel(\"Mouse Weight\")\n",
    "#plt.ylabel(\"Average Tumor Volume (mm3)\")\n",
    "#plt.scatter(mouse_weight, avg_tumor_vol, marker='o', color='green')\n",
    "\n",
    "#plt.savefig('plots/ScatterPlot')\n",
    "#plt.show()"
   ]
  },
  {
   "cell_type": "markdown",
   "metadata": {},
   "source": [
    "## Latitude vs. Humidity Plot"
   ]
  },
  {
   "cell_type": "code",
   "execution_count": null,
   "metadata": {},
   "outputs": [],
   "source": []
  },
  {
   "cell_type": "markdown",
   "metadata": {},
   "source": [
    "## Latitude vs. Cloudiness Plot"
   ]
  },
  {
   "cell_type": "code",
   "execution_count": null,
   "metadata": {},
   "outputs": [],
   "source": []
  },
  {
   "cell_type": "markdown",
   "metadata": {},
   "source": [
    "## Latitude vs. Wind Speed Plot"
   ]
  },
  {
   "cell_type": "code",
   "execution_count": null,
   "metadata": {},
   "outputs": [],
   "source": []
  },
  {
   "cell_type": "markdown",
   "metadata": {},
   "source": [
    "## Linear Regression"
   ]
  },
  {
   "cell_type": "code",
   "execution_count": null,
   "metadata": {},
   "outputs": [],
   "source": []
  },
  {
   "cell_type": "markdown",
   "metadata": {},
   "source": [
    "####  Northern Hemisphere - Max Temp vs. Latitude Linear Regression"
   ]
  },
  {
   "cell_type": "code",
   "execution_count": null,
   "metadata": {},
   "outputs": [],
   "source": []
  },
  {
   "cell_type": "markdown",
   "metadata": {},
   "source": [
    "####  Southern Hemisphere - Max Temp vs. Latitude Linear Regression"
   ]
  },
  {
   "cell_type": "code",
   "execution_count": null,
   "metadata": {},
   "outputs": [],
   "source": []
  },
  {
   "cell_type": "markdown",
   "metadata": {},
   "source": [
    "####  Northern Hemisphere - Humidity (%) vs. Latitude Linear Regression"
   ]
  },
  {
   "cell_type": "code",
   "execution_count": null,
   "metadata": {},
   "outputs": [],
   "source": []
  },
  {
   "cell_type": "markdown",
   "metadata": {},
   "source": [
    "####  Southern Hemisphere - Humidity (%) vs. Latitude Linear Regression"
   ]
  },
  {
   "cell_type": "code",
   "execution_count": null,
   "metadata": {},
   "outputs": [],
   "source": []
  },
  {
   "cell_type": "markdown",
   "metadata": {},
   "source": [
    "####  Northern Hemisphere - Cloudiness (%) vs. Latitude Linear Regression"
   ]
  },
  {
   "cell_type": "code",
   "execution_count": null,
   "metadata": {},
   "outputs": [],
   "source": []
  },
  {
   "cell_type": "markdown",
   "metadata": {},
   "source": [
    "####  Southern Hemisphere - Cloudiness (%) vs. Latitude Linear Regression"
   ]
  },
  {
   "cell_type": "code",
   "execution_count": null,
   "metadata": {},
   "outputs": [],
   "source": []
  },
  {
   "cell_type": "markdown",
   "metadata": {},
   "source": [
    "####  Northern Hemisphere - Wind Speed (mph) vs. Latitude Linear Regression"
   ]
  },
  {
   "cell_type": "code",
   "execution_count": null,
   "metadata": {},
   "outputs": [],
   "source": []
  },
  {
   "cell_type": "markdown",
   "metadata": {},
   "source": [
    "####  Southern Hemisphere - Wind Speed (mph) vs. Latitude Linear Regression"
   ]
  },
  {
   "cell_type": "code",
   "execution_count": null,
   "metadata": {},
   "outputs": [],
   "source": []
  }
 ],
 "metadata": {
  "anaconda-cloud": {},
  "kernel_info": {
   "name": "python3"
  },
  "kernelspec": {
   "display_name": "Python [conda env:PythonData] *",
   "language": "python",
   "name": "conda-env-PythonData-py"
  },
  "language_info": {
   "codemirror_mode": {
    "name": "ipython",
    "version": 3
   },
   "file_extension": ".py",
   "mimetype": "text/x-python",
   "name": "python",
   "nbconvert_exporter": "python",
   "pygments_lexer": "ipython3",
   "version": "3.6.10"
  },
  "latex_envs": {
   "LaTeX_envs_menu_present": true,
   "autoclose": false,
   "autocomplete": true,
   "bibliofile": "biblio.bib",
   "cite_by": "apalike",
   "current_citInitial": 1,
   "eqLabelWithNumbers": true,
   "eqNumInitial": 1,
   "hotkeys": {
    "equation": "Ctrl-E",
    "itemize": "Ctrl-I"
   },
   "labels_anchors": false,
   "latex_user_defs": false,
   "report_style_numbering": false,
   "user_envs_cfg": false
  },
  "nteract": {
   "version": "0.12.3"
  }
 },
 "nbformat": 4,
 "nbformat_minor": 2
}
