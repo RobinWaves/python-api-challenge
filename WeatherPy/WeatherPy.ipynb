{
 "cells": [
  {
   "cell_type": "markdown",
   "metadata": {},
   "source": [
    "# WeatherPy\n",
    "----\n",
    "\n",
    "#### Note\n",
    "* Instructions have been included for each segment. You do not have to follow them exactly, but they are included to help you think through the steps."
   ]
  },
  {
   "cell_type": "code",
   "execution_count": null,
   "metadata": {
    "scrolled": true
   },
   "outputs": [],
   "source": [
    "# Dependencies and Setup\n",
    "import matplotlib.pyplot as plt\n",
    "from scipy.stats import linregress\n",
    "import pandas as pd\n",
    "import numpy as np\n",
    "import requests\n",
    "import datetime\n",
    "from pprint import pprint\n",
    "\n",
    "# Import API key\n",
    "from api_keys import weather_api_key\n",
    "\n",
    "# Incorporated citipy to determine city based on latitude and longitude\n",
    "from citipy import citipy\n",
    "\n",
    "# Output File (CSV)\n",
    "output_data_file = \"output_data/cities.csv\"\n",
    "\n",
    "# Range of latitudes and longitudes\n",
    "lat_range = (-90, 90)\n",
    "lng_range = (-180, 180)"
   ]
  },
  {
   "cell_type": "markdown",
   "metadata": {},
   "source": [
    "## Generate Cities List"
   ]
  },
  {
   "cell_type": "code",
   "execution_count": null,
   "metadata": {},
   "outputs": [],
   "source": [
    "# List for holding lat_lngs and cities\n",
    "lat_lngs = []\n",
    "cities = []\n",
    "\n",
    "# Create a set of random lat and lng combinations\n",
    "lats = np.random.uniform(lat_range[0], lat_range[1], size=1500) \n",
    "lngs = np.random.uniform(lng_range[0], lng_range[1], size=1500)\n",
    "lat_lngs = zip(lats, lngs)\n",
    "\n",
    "# Identify nearest city for each lat, lng combination\n",
    "for lat_lng in lat_lngs:\n",
    "    city = citipy.nearest_city(lat_lng[0], lat_lng[1]).city_name\n",
    "    \n",
    "    # If the city is unique, then add it to a our cities list\n",
    "    if city not in cities:\n",
    "        cities.append(city)\n",
    "\n",
    "# Print the city count to confirm sufficient count\n",
    "len(cities)"
   ]
  },
  {
   "cell_type": "markdown",
   "metadata": {},
   "source": [
    "### Perform API Calls\n",
    "* Perform a weather check on each city using a series of successive API calls.\n",
    "* Include a print log of each city as it'sbeing processed (with the city number and city name).\n"
   ]
  },
  {
   "cell_type": "code",
   "execution_count": null,
   "metadata": {
    "scrolled": true
   },
   "outputs": [],
   "source": [
    "#build the dataframe\n",
    "city_data_df = pd.DataFrame(columns=(['City', 'Lat', 'Lng', 'Max Temp', 'Humidity', 'Cloudiness', \n",
    "                                      'Wind Speed', 'Country', 'Date']))\n",
    "#load cities in df\n",
    "city_data_df['City'] = cities\n",
    "\n",
    "base_url = \"http://api.openweathermap.org/data/2.5/weather?\"\n",
    "units = \"imperial\"\n",
    "rec_num = 1\n",
    "failed = 0\n",
    "\n",
    "print(\"Beginning Data Retrieval\")    \n",
    "print(\"-----------------------------\")\n",
    "\n",
    "for index, row in city_data_df.iterrows():\n",
    "    city = row['City']\n",
    "    try:\n",
    "        query_url = f\"{base_url}q={city}&units={units}&appid={weather_api_key}\"  \n",
    "        response = requests.get(query_url).json() \n",
    "        #load city weather data into data frame\n",
    "        city_data_df.loc[index, 'City'] = response['name']\n",
    "        city_data_df.loc[index, 'Lat'] = response['coord']['lat']\n",
    "        city_data_df.loc[index, 'Lng'] = response['coord']['lon']\n",
    "        city_data_df.loc[index, 'Max Temp'] = response['main']['temp_max'] ### Farenheit ###\n",
    "        city_data_df.loc[index, 'Humidity'] = response['main']['humidity'] ### percentage ###\n",
    "        city_data_df.loc[index, 'Cloudiness'] = response['clouds']['all'] ### percentage ###\n",
    "        city_data_df.loc[index, 'Wind Speed'] = response['wind']['speed'] ### mph ###\n",
    "        city_data_df.loc[index, 'Country'] = response['sys']['country']\n",
    "        date = (datetime.datetime.fromtimestamp(response['dt'])).strftime('%Y-%m-%d %H:%M:%S')\n",
    "        city_data_df.loc[index, 'Date'] = date \n",
    "        #city_data_df.loc[index, 'Date'] = response['dt']        \n",
    "        print(f\"Processing Record #{rec_num} city name: {row['City']}\")\n",
    "        rec_num += 1\n",
    "    except (KeyError, IndexError):\n",
    "        print(f\"{row['City']} not found skipping...\")\n",
    "        city_data_df.drop(index, inplace=True)\n",
    "        failed += 1\n",
    "        \n",
    "print(f\"Number of records skipped: {failed}\")\n",
    "print(\"-----------------------------\")\n",
    "print(\"Data Retrieval Complete\")     \n",
    "print(\"-----------------------------\")"
   ]
  },
  {
   "cell_type": "markdown",
   "metadata": {},
   "source": [
    "### Convert Raw Data to DataFrame\n",
    "* Export the city data into a .csv.\n",
    "* Display the DataFrame"
   ]
  },
  {
   "cell_type": "code",
   "execution_count": null,
   "metadata": {},
   "outputs": [],
   "source": [
    "city_data_df.to_csv(output_data_file, index=False)\n",
    "city_data_df.head()"
   ]
  },
  {
   "cell_type": "markdown",
   "metadata": {},
   "source": [
    "## Inspect the data and remove the cities where the humidity > 100%.\n",
    "----\n",
    "Skip this step if there are no cities that have humidity > 100%. "
   ]
  },
  {
   "cell_type": "code",
   "execution_count": null,
   "metadata": {},
   "outputs": [],
   "source": [
    "city_data_df['Humidity'].max()"
   ]
  },
  {
   "cell_type": "code",
   "execution_count": null,
   "metadata": {},
   "outputs": [],
   "source": [
    "#  Get the indices of cities that have humidity over 100%.\n",
    "#  N/A"
   ]
  },
  {
   "cell_type": "code",
   "execution_count": null,
   "metadata": {},
   "outputs": [],
   "source": [
    "# Make a new DataFrame equal to the city data to drop all humidity outliers by index.\n",
    "# Passing \"inplace=False\" will make a copy of the city_data DataFrame, which we call \"clean_city_data\".\n",
    "# N/A"
   ]
  },
  {
   "cell_type": "markdown",
   "metadata": {},
   "source": [
    "## Plotting the Data\n",
    "* Use proper labeling of the plots using plot titles (including date of analysis) and axes labels.\n",
    "* Save the plotted figures as .pngs."
   ]
  },
  {
   "cell_type": "code",
   "execution_count": null,
   "metadata": {},
   "outputs": [],
   "source": [
    "#read in cities.csv file to data frame\n",
    "weather_df = pd.read_csv(\"output_data/cities.csv\")\n",
    "weather_df.head()"
   ]
  },
  {
   "cell_type": "markdown",
   "metadata": {},
   "source": [
    "## Latitude vs. Temperature Plot"
   ]
  },
  {
   "cell_type": "code",
   "execution_count": null,
   "metadata": {
    "scrolled": true
   },
   "outputs": [],
   "source": [
    "plt.scatter(weather_df['Lat'], weather_df['Max Temp'], edgecolors='black')\n",
    "plt.title(\"City Latitude vs. Max Tempature (04/19/21)\")\n",
    "plt.xlabel(\"Latitude\")\n",
    "plt.ylabel(\"Max Temperature (F)\")\n",
    "plt.grid (b=True,which='major',axis='both',linestyle='-',color='lightgrey')\n",
    "\n",
    "plt.savefig('output_data/LatVsMaxTemp')\n",
    "plt.show()"
   ]
  },
  {
   "cell_type": "markdown",
   "metadata": {},
   "source": [
    "## Latitude vs. Humidity Plot"
   ]
  },
  {
   "cell_type": "code",
   "execution_count": null,
   "metadata": {},
   "outputs": [],
   "source": [
    "plt.scatter(weather_df['Lat'], weather_df['Humidity'], edgecolors='black')\n",
    "plt.title(\"City Latitude vs. Humidity (04/19/21)\")\n",
    "plt.xlabel(\"Latitude\")\n",
    "plt.ylabel(\"Humidity (%)\")\n",
    "plt.grid (b=True,which='major',axis='both',linestyle=\"-\",color='lightgrey')\n",
    "\n",
    "plt.savefig('output_data/LatVsHumid')\n",
    "plt.show()"
   ]
  },
  {
   "cell_type": "markdown",
   "metadata": {},
   "source": [
    "## Latitude vs. Cloudiness Plot"
   ]
  },
  {
   "cell_type": "code",
   "execution_count": null,
   "metadata": {},
   "outputs": [],
   "source": [
    "plt.scatter(weather_df['Lat'],weather_df['Cloudiness'], edgecolors='black')\n",
    "plt.title(\"City Latitude vs. Cloudiness (04/19/21)\")\n",
    "plt.xlabel(\"Latitude\")\n",
    "plt.ylabel(\"Cloudiness (%)\")\n",
    "plt.grid (b=True,which='major',axis='both',linestyle='-',color='lightgrey')\n",
    "\n",
    "plt.savefig('output_data/LatVsCloud')\n",
    "plt.show()"
   ]
  },
  {
   "cell_type": "markdown",
   "metadata": {},
   "source": [
    "## Latitude vs. Wind Speed Plot"
   ]
  },
  {
   "cell_type": "code",
   "execution_count": null,
   "metadata": {},
   "outputs": [],
   "source": [
    "plt.scatter(weather_df['Lat'],weather_df['Wind Speed'], edgecolors='black')\n",
    "plt.title(\"City Latitude vs. Wind Speed (04/19/21)\")\n",
    "plt.xlabel(\"Latitude\")\n",
    "plt.ylabel(\"Wind Speed (mph)\")\n",
    "plt.grid (b=True,which='major',axis='both',linestyle='-',color='lightgrey')\n",
    "\n",
    "plt.savefig('output_data/LatVsWind')\n",
    "plt.show()"
   ]
  },
  {
   "cell_type": "markdown",
   "metadata": {},
   "source": [
    "## Linear Regression"
   ]
  },
  {
   "cell_type": "code",
   "execution_count": null,
   "metadata": {},
   "outputs": [],
   "source": [
    "north_hemi = weather_df.loc[weather_df['Lat'] >= 0]\n",
    "south_hemi = weather_df.loc[weather_df['Lat'] < 0]\n",
    "north_count = len(north_hemi)\n",
    "south_count = len(south_hemi)\n",
    "print(f\"There are {north_count} cities in the northern hemisphere from the dataframe.\")\n",
    "print(f\"There are {south_count} cities in the southern hemisphere from the dataframe.\")"
   ]
  },
  {
   "cell_type": "markdown",
   "metadata": {},
   "source": [
    "####  Northern Hemisphere - Max Temp vs. Latitude Linear Regression"
   ]
  },
  {
   "cell_type": "code",
   "execution_count": null,
   "metadata": {},
   "outputs": [],
   "source": [
    "north_hemi_lat = north_hemi['Lat']\n",
    "north_hemi_max_temp = north_hemi['Max Temp']\n",
    "# Perform a linear regression for the Northern Hemisphere on cities max temp vs latitude\n",
    "ntl_slope, ntl_int, ntl_r, ntl_p, ntl_std_err = linregress(north_hemi_lat, north_hemi_max_temp)\n",
    "\n",
    "# Create equation of line to calculate predicted max temp\n",
    "ntl_fit = ntl_slope * north_hemi_lat + ntl_int\n",
    "\n",
    "# Create line equation string\n",
    "line_eq = f\"y = {ntl_slope:1.2f}x + {ntl_int:1.2f}\"\n",
    "\n",
    "plt.scatter(north_hemi_lat, north_hemi_max_temp)\n",
    "plt.plot(north_hemi_lat, ntl_fit, \"--\", color = 'r')\n",
    "\n",
    "plt.title(\"Northern Hemisphere City Latitude vs. Max Tempature\")\n",
    "plt.xlabel(\"Latitude\")\n",
    "plt.ylabel(\"Max Temperature (F)\")\n",
    "plt.grid (b=True,which='major',axis='both',linestyle='-',color='lightgrey')\n",
    "plt.annotate(line_eq,(0, 0),fontsize=15,color=\"red\")\n",
    "\n",
    "plt.savefig('output_data/NorthHemiLatVsMaxTemp')\n",
    "plt.show()\n",
    "\n",
    "print(f\"The r-value is: {ntl_r}\")"
   ]
  },
  {
   "cell_type": "markdown",
   "metadata": {},
   "source": [
    "####  Southern Hemisphere - Max Temp vs. Latitude Linear Regression"
   ]
  },
  {
   "cell_type": "code",
   "execution_count": null,
   "metadata": {},
   "outputs": [],
   "source": [
    "south_hemi_lat = south_hemi['Lat']\n",
    "south_hemi_max_temp = south_hemi['Max Temp']\n",
    "# Perform a linear regression for the Southern Hemisphere on cities max temp vs latitude\n",
    "stl_slope, stl_int, stl_r, stl_p, stl_std_err = linregress(south_hemi_lat, south_hemi_max_temp)\n",
    "\n",
    "# Create equation of line to calculate predicteded max temp\n",
    "stl_fit = stl_slope * south_hemi_lat + stl_int\n",
    "\n",
    "# Create line equation string\n",
    "line_eq = f\"y = {stl_slope:1.2f}x + {stl_int:1.2f}\"\n",
    "\n",
    "plt.scatter(south_hemi_lat, south_hemi_max_temp)\n",
    "plt.plot(south_hemi_lat, stl_fit, \"--\", color = 'r')\n",
    "\n",
    "plt.title(\"Southern Hemisphere City Latitude vs. Max Tempature\")\n",
    "plt.xlabel(\"Latitude\")\n",
    "plt.ylabel(\"Max Temperature (F)\")\n",
    "plt.grid (b=True,which='major',axis='both',linestyle='-',color='lightgrey')\n",
    "plt.annotate(line_eq,(-55, 35),fontsize=15,color=\"red\")\n",
    "\n",
    "plt.savefig('output_data/SouthHemiLatVsMaxTemp')\n",
    "plt.show()\n",
    "\n",
    "print(f\"The r-value is: {stl_r}\")"
   ]
  },
  {
   "cell_type": "markdown",
   "metadata": {},
   "source": [
    "####  Northern Hemisphere - Humidity (%) vs. Latitude Linear Regression"
   ]
  },
  {
   "cell_type": "code",
   "execution_count": null,
   "metadata": {},
   "outputs": [],
   "source": [
    "north_hemi_humidity = north_hemi['Humidity']\n",
    "# Perform a linear regression for the Northern Hemisphere on cities humidity vs latitude\n",
    "nhl_slope, nhl_int, nhl_r, nhl_p, nhl_std_err = linregress(north_hemi_lat, north_hemi_humidity)\n",
    "\n",
    "# Create equation of line to calculate predicted humidity\n",
    "nhl_fit = nhl_slope * north_hemi_lat + nhl_int\n",
    "\n",
    "# Create line equation string\n",
    "line_eq = f\"y = {nhl_slope:1.2f}x + {nhl_int:1.2f}\"\n",
    "\n",
    "plt.scatter(north_hemi_lat, north_hemi_humidity)\n",
    "plt.plot(north_hemi_lat, nhl_fit, \"--\", color = 'r')\n",
    "\n",
    "plt.title(\"Northern Hemisphere City Latitude vs. Humidity\")\n",
    "plt.xlabel(\"Latitude\")\n",
    "plt.ylabel(\"Humidity (%)\")\n",
    "plt.grid (b=True,which='major',axis='both',linestyle='-',color='lightgrey')\n",
    "plt.annotate(line_eq,(45, 2),fontsize=15,color=\"red\")\n",
    "\n",
    "plt.savefig('output_data/NorthHemiLatVsHumid')\n",
    "plt.show()\n",
    "\n",
    "print(f\"The r-value is: {nhl_r}\") "
   ]
  },
  {
   "cell_type": "markdown",
   "metadata": {},
   "source": [
    "####  Southern Hemisphere - Humidity (%) vs. Latitude Linear Regression"
   ]
  },
  {
   "cell_type": "code",
   "execution_count": null,
   "metadata": {},
   "outputs": [],
   "source": [
    "south_hemi_humidity = south_hemi['Humidity']\n",
    "# Perform a linear regression for the Southern Hemisphere on cities humidity vs latitude\n",
    "shl_slope, shl_int, shl_r, shl_p, shl_std_err = linregress(south_hemi_lat, south_hemi_humidity)\n",
    "\n",
    "# Create equation of line to calculate predicted humidity\n",
    "shl_fit = shl_slope * south_hemi_lat + shl_int\n",
    "\n",
    "# Create line equation string\n",
    "line_eq = f\"y = {shl_slope:1.2f}x + {shl_int:1.2f}\"\n",
    "\n",
    "plt.scatter(south_hemi_lat, south_hemi_humidity)\n",
    "plt.plot(south_hemi_lat, shl_fit, \"--\", color = 'r')\n",
    "\n",
    "plt.title(\"Southern Hemisphere City Latitude vs. Humidity\")\n",
    "plt.xlabel(\"Latitude\")\n",
    "plt.ylabel(\"Humidity (%)\")\n",
    "plt.grid (b=True,which='major',axis='both',linestyle='-',color='lightgrey')\n",
    "plt.annotate(line_eq,(-57, 23),fontsize=15,color=\"red\")\n",
    "\n",
    "plt.savefig('output_data/SouthHemiLatVsHumid')\n",
    "plt.show()\n",
    "\n",
    "print(f\"The r-value is: {shl_r}\")"
   ]
  },
  {
   "cell_type": "markdown",
   "metadata": {},
   "source": [
    "####  Northern Hemisphere - Cloudiness (%) vs. Latitude Linear Regression"
   ]
  },
  {
   "cell_type": "code",
   "execution_count": null,
   "metadata": {},
   "outputs": [],
   "source": [
    "north_hemi_cloudiness = north_hemi['Cloudiness']\n",
    "# Perform a linear regression for the Northern Hemisphere on cities cloudiness vs latitude\n",
    "ncl_slope, ncl_int, ncl_r, ncl_p, ncl_std_err = linregress(north_hemi_lat, north_hemi_cloudiness)\n",
    "\n",
    "# Create equation of line to calculate predicted cloudiness\n",
    "ncl_fit = ncl_slope * north_hemi_lat + ncl_int\n",
    "\n",
    "# Create line equation string\n",
    "line_eq = f\"y = {ncl_slope:1.2f}x + {ncl_int:1.2f}\"\n",
    "\n",
    "plt.scatter(north_hemi_lat, north_hemi_cloudiness)\n",
    "plt.plot(north_hemi_lat, ncl_fit, \"--\", color = 'r')\n",
    "\n",
    "plt.title(\"Northern Hemisphere City Latitude vs. Cloudiness\")\n",
    "plt.xlabel(\"Latitude\")\n",
    "plt.ylabel(\"Cloudiness (%)\")\n",
    "plt.grid (b=True,which='major',axis='both',linestyle='-',color='lightgrey')\n",
    "plt.annotate(line_eq,(78, 0),fontsize=15,color=\"red\", rotation='vertical')\n",
    "\n",
    "plt.savefig('output_data/NorthHemiLatVsCloud')\n",
    "plt.show()\n",
    "\n",
    "print(f\"The r-value is: {ncl_r}\")"
   ]
  },
  {
   "cell_type": "markdown",
   "metadata": {},
   "source": [
    "####  Southern Hemisphere - Cloudiness (%) vs. Latitude Linear Regression"
   ]
  },
  {
   "cell_type": "code",
   "execution_count": null,
   "metadata": {},
   "outputs": [],
   "source": [
    "south_hemi_cloudiness = south_hemi['Cloudiness']\n",
    "# Perform a linear regression for the Southern Hemisphere on cities cloudiness vs latitude\n",
    "scl_slope, scl_int, scl_r, scl_p, scl_std_err = linregress(south_hemi_lat, south_hemi_cloudiness)\n",
    "\n",
    "# Create equation of line to calculate predicted cloudiness\n",
    "scl_fit = scl_slope * south_hemi_lat + scl_int\n",
    "\n",
    "# Create line equation string\n",
    "line_eq = f\"y = {scl_slope:1.2f}x + {scl_int:1.2f}\"\n",
    "\n",
    "plt.scatter(south_hemi_lat, south_hemi_cloudiness)\n",
    "plt.plot(south_hemi_lat, scl_fit, \"--\", color = 'r')\n",
    "\n",
    "plt.title(\"Southern Hemisphere City Latitude vs. Cloudiness\")\n",
    "plt.xlabel(\"Latitude\")\n",
    "plt.ylabel(\"Cloudiness (%)\")\n",
    "plt.grid (b=True,which='major',axis='both',linestyle='-',color='lightgrey')\n",
    "plt.annotate(line_eq,(-1, -1),fontsize=15,color=\"red\", rotation='vertical')\n",
    "\n",
    "plt.savefig('output_data/SouthHemiLatVsCloud')\n",
    "plt.show()\n",
    "\n",
    "print(f\"The r-value is: {scl_r}\")"
   ]
  },
  {
   "cell_type": "markdown",
   "metadata": {},
   "source": [
    "####  Northern Hemisphere - Wind Speed (mph) vs. Latitude Linear Regression"
   ]
  },
  {
   "cell_type": "code",
   "execution_count": null,
   "metadata": {},
   "outputs": [],
   "source": [
    "north_hemi_wind = north_hemi['Wind Speed']\n",
    "# Perform a linear regression for the Northern Hemisphere on cities wind speed vs latitude\n",
    "nwl_slope, nwl_int, nwl_r, nwl_p, nwl_std_err = linregress(north_hemi_lat, north_hemi_wind)\n",
    "\n",
    "# Create equation of line to calculate predicted wind speed\n",
    "nwl_fit = nwl_slope * north_hemi_lat + nwl_int\n",
    "\n",
    "# Create line equation string\n",
    "line_eq = f\"y = {nwl_slope:1.2f}x + {nwl_int:1.2f}\"\n",
    "\n",
    "plt.scatter(north_hemi_lat, north_hemi_wind)\n",
    "plt.plot(north_hemi_lat, nwl_fit, \"--\", color = 'r')\n",
    "\n",
    "plt.title(\"Northern Hemisphere City Latitude vs. Wind Speed\")\n",
    "plt.xlabel(\"Latitude\")\n",
    "plt.ylabel(\"Wind Speed (mph)\")\n",
    "plt.grid (b=True,which='major',axis='both',linestyle='-',color='lightgrey')\n",
    "plt.annotate(line_eq,(47, 25),fontsize=15,color=\"red\")\n",
    "\n",
    "plt.savefig('output_data/NorthHemiLatVsWind')\n",
    "plt.show()\n",
    "\n",
    "print(f\"The r-value is: {nwl_r}\")"
   ]
  },
  {
   "cell_type": "markdown",
   "metadata": {},
   "source": [
    "####  Southern Hemisphere - Wind Speed (mph) vs. Latitude Linear Regression"
   ]
  },
  {
   "cell_type": "code",
   "execution_count": null,
   "metadata": {},
   "outputs": [],
   "source": [
    "south_hemi_wind = south_hemi['Wind Speed']\n",
    "# Perform a linear regression for the Southern Hemisphere on cities wind speed vs latitude\n",
    "swl_slope, swl_int, swl_r, swl_p, swl_std_err = linregress(south_hemi_lat, south_hemi_wind)\n",
    "\n",
    "# Create equation of line to calculate predicted wind speed\n",
    "swl_fit = swl_slope * south_hemi_lat + swl_int\n",
    "\n",
    "# Create line equation string\n",
    "line_eq = f\"y = {swl_slope:1.2f}x + {swl_int:1.2f}\"\n",
    "\n",
    "plt.scatter(south_hemi_lat, south_hemi_wind)\n",
    "plt.plot(south_hemi_lat, swl_fit, \"--\", color = 'r')\n",
    "\n",
    "plt.title(\"Southern Hemisphere City Latitude vs. Wind Speed\")\n",
    "plt.xlabel(\"Latitude\")\n",
    "plt.ylabel(\"Wind Speed (mph)\")\n",
    "plt.grid (b=True,which='major',axis='both',linestyle='-',color='lightgrey')\n",
    "plt.annotate(line_eq,(-25, 22),fontsize=15,color=\"red\")\n",
    "\n",
    "plt.savefig('output_data/SouthHemiLatVsWind')\n",
    "plt.show()\n",
    "\n",
    "print(f\"The r-value is: {swl_r}\")"
   ]
  }
 ],
 "metadata": {
  "anaconda-cloud": {},
  "kernel_info": {
   "name": "python3"
  },
  "kernelspec": {
   "display_name": "Python [conda env:PythonData] *",
   "language": "python",
   "name": "conda-env-PythonData-py"
  },
  "language_info": {
   "codemirror_mode": {
    "name": "ipython",
    "version": 3
   },
   "file_extension": ".py",
   "mimetype": "text/x-python",
   "name": "python",
   "nbconvert_exporter": "python",
   "pygments_lexer": "ipython3",
   "version": "3.6.10"
  },
  "latex_envs": {
   "LaTeX_envs_menu_present": true,
   "autoclose": false,
   "autocomplete": true,
   "bibliofile": "biblio.bib",
   "cite_by": "apalike",
   "current_citInitial": 1,
   "eqLabelWithNumbers": true,
   "eqNumInitial": 1,
   "hotkeys": {
    "equation": "Ctrl-E",
    "itemize": "Ctrl-I"
   },
   "labels_anchors": false,
   "latex_user_defs": false,
   "report_style_numbering": false,
   "user_envs_cfg": false
  },
  "nteract": {
   "version": "0.12.3"
  }
 },
 "nbformat": 4,
 "nbformat_minor": 2
}
